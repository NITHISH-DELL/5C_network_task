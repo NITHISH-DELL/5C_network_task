{
  "nbformat": 4,
  "nbformat_minor": 0,
  "metadata": {
    "colab": {
      "provenance": []
    },
    "kernelspec": {
      "name": "python3",
      "display_name": "Python 3"
    },
    "language_info": {
      "name": "python"
    }
  },
  "cells": [
    {
      "cell_type": "code",
      "execution_count": 1,
      "metadata": {
        "id": "oz22h79fn-CO"
      },
      "outputs": [],
      "source": [
        "import pandas as pd"
      ]
    },
    {
      "cell_type": "code",
      "source": [
        "df = pd.read_csv('/content/sales_data_2.csv')"
      ],
      "metadata": {
        "id": "e72MQY9loKnp"
      },
      "execution_count": 2,
      "outputs": []
    },
    {
      "cell_type": "code",
      "source": [
        "df.head(5)"
      ],
      "metadata": {
        "colab": {
          "base_uri": "https://localhost:8080/",
          "height": 206
        },
        "id": "ADtwdPm2oN5U",
        "outputId": "d44e0678-8217-43bf-e102-8dbac9d7f320"
      },
      "execution_count": 3,
      "outputs": [
        {
          "output_type": "execute_result",
          "data": {
            "text/plain": [
              "         Date Firm bought from  Buying price  Quantity bought   Customer  \\\n",
              "0  2023-08-21          Vendor6         72.11               60  Customer7   \n",
              "1  2023-08-21          Vendor4         75.08               92  Customer7   \n",
              "2  2023-08-21          Vendor7         83.93               16  Customer2   \n",
              "3  2023-08-21          Vendor7         52.01               62  Customer3   \n",
              "4  2023-08-21          Vendor2         98.91                1  Customer5   \n",
              "\n",
              "   Selling price  Quantity sold  \n",
              "0          91.58             44  \n",
              "1          83.71             17  \n",
              "2         103.76             15  \n",
              "3          64.53              7  \n",
              "4         140.92              1  "
            ],
            "text/html": [
              "\n",
              "  <div id=\"df-cde126d7-0aa7-4b3c-a05b-4e7425aef463\" class=\"colab-df-container\">\n",
              "    <div>\n",
              "<style scoped>\n",
              "    .dataframe tbody tr th:only-of-type {\n",
              "        vertical-align: middle;\n",
              "    }\n",
              "\n",
              "    .dataframe tbody tr th {\n",
              "        vertical-align: top;\n",
              "    }\n",
              "\n",
              "    .dataframe thead th {\n",
              "        text-align: right;\n",
              "    }\n",
              "</style>\n",
              "<table border=\"1\" class=\"dataframe\">\n",
              "  <thead>\n",
              "    <tr style=\"text-align: right;\">\n",
              "      <th></th>\n",
              "      <th>Date</th>\n",
              "      <th>Firm bought from</th>\n",
              "      <th>Buying price</th>\n",
              "      <th>Quantity bought</th>\n",
              "      <th>Customer</th>\n",
              "      <th>Selling price</th>\n",
              "      <th>Quantity sold</th>\n",
              "    </tr>\n",
              "  </thead>\n",
              "  <tbody>\n",
              "    <tr>\n",
              "      <th>0</th>\n",
              "      <td>2023-08-21</td>\n",
              "      <td>Vendor6</td>\n",
              "      <td>72.11</td>\n",
              "      <td>60</td>\n",
              "      <td>Customer7</td>\n",
              "      <td>91.58</td>\n",
              "      <td>44</td>\n",
              "    </tr>\n",
              "    <tr>\n",
              "      <th>1</th>\n",
              "      <td>2023-08-21</td>\n",
              "      <td>Vendor4</td>\n",
              "      <td>75.08</td>\n",
              "      <td>92</td>\n",
              "      <td>Customer7</td>\n",
              "      <td>83.71</td>\n",
              "      <td>17</td>\n",
              "    </tr>\n",
              "    <tr>\n",
              "      <th>2</th>\n",
              "      <td>2023-08-21</td>\n",
              "      <td>Vendor7</td>\n",
              "      <td>83.93</td>\n",
              "      <td>16</td>\n",
              "      <td>Customer2</td>\n",
              "      <td>103.76</td>\n",
              "      <td>15</td>\n",
              "    </tr>\n",
              "    <tr>\n",
              "      <th>3</th>\n",
              "      <td>2023-08-21</td>\n",
              "      <td>Vendor7</td>\n",
              "      <td>52.01</td>\n",
              "      <td>62</td>\n",
              "      <td>Customer3</td>\n",
              "      <td>64.53</td>\n",
              "      <td>7</td>\n",
              "    </tr>\n",
              "    <tr>\n",
              "      <th>4</th>\n",
              "      <td>2023-08-21</td>\n",
              "      <td>Vendor2</td>\n",
              "      <td>98.91</td>\n",
              "      <td>1</td>\n",
              "      <td>Customer5</td>\n",
              "      <td>140.92</td>\n",
              "      <td>1</td>\n",
              "    </tr>\n",
              "  </tbody>\n",
              "</table>\n",
              "</div>\n",
              "    <div class=\"colab-df-buttons\">\n",
              "\n",
              "  <div class=\"colab-df-container\">\n",
              "    <button class=\"colab-df-convert\" onclick=\"convertToInteractive('df-cde126d7-0aa7-4b3c-a05b-4e7425aef463')\"\n",
              "            title=\"Convert this dataframe to an interactive table.\"\n",
              "            style=\"display:none;\">\n",
              "\n",
              "  <svg xmlns=\"http://www.w3.org/2000/svg\" height=\"24px\" viewBox=\"0 -960 960 960\">\n",
              "    <path d=\"M120-120v-720h720v720H120Zm60-500h600v-160H180v160Zm220 220h160v-160H400v160Zm0 220h160v-160H400v160ZM180-400h160v-160H180v160Zm440 0h160v-160H620v160ZM180-180h160v-160H180v160Zm440 0h160v-160H620v160Z\"/>\n",
              "  </svg>\n",
              "    </button>\n",
              "\n",
              "  <style>\n",
              "    .colab-df-container {\n",
              "      display:flex;\n",
              "      gap: 12px;\n",
              "    }\n",
              "\n",
              "    .colab-df-convert {\n",
              "      background-color: #E8F0FE;\n",
              "      border: none;\n",
              "      border-radius: 50%;\n",
              "      cursor: pointer;\n",
              "      display: none;\n",
              "      fill: #1967D2;\n",
              "      height: 32px;\n",
              "      padding: 0 0 0 0;\n",
              "      width: 32px;\n",
              "    }\n",
              "\n",
              "    .colab-df-convert:hover {\n",
              "      background-color: #E2EBFA;\n",
              "      box-shadow: 0px 1px 2px rgba(60, 64, 67, 0.3), 0px 1px 3px 1px rgba(60, 64, 67, 0.15);\n",
              "      fill: #174EA6;\n",
              "    }\n",
              "\n",
              "    .colab-df-buttons div {\n",
              "      margin-bottom: 4px;\n",
              "    }\n",
              "\n",
              "    [theme=dark] .colab-df-convert {\n",
              "      background-color: #3B4455;\n",
              "      fill: #D2E3FC;\n",
              "    }\n",
              "\n",
              "    [theme=dark] .colab-df-convert:hover {\n",
              "      background-color: #434B5C;\n",
              "      box-shadow: 0px 1px 3px 1px rgba(0, 0, 0, 0.15);\n",
              "      filter: drop-shadow(0px 1px 2px rgba(0, 0, 0, 0.3));\n",
              "      fill: #FFFFFF;\n",
              "    }\n",
              "  </style>\n",
              "\n",
              "    <script>\n",
              "      const buttonEl =\n",
              "        document.querySelector('#df-cde126d7-0aa7-4b3c-a05b-4e7425aef463 button.colab-df-convert');\n",
              "      buttonEl.style.display =\n",
              "        google.colab.kernel.accessAllowed ? 'block' : 'none';\n",
              "\n",
              "      async function convertToInteractive(key) {\n",
              "        const element = document.querySelector('#df-cde126d7-0aa7-4b3c-a05b-4e7425aef463');\n",
              "        const dataTable =\n",
              "          await google.colab.kernel.invokeFunction('convertToInteractive',\n",
              "                                                    [key], {});\n",
              "        if (!dataTable) return;\n",
              "\n",
              "        const docLinkHtml = 'Like what you see? Visit the ' +\n",
              "          '<a target=\"_blank\" href=https://colab.research.google.com/notebooks/data_table.ipynb>data table notebook</a>'\n",
              "          + ' to learn more about interactive tables.';\n",
              "        element.innerHTML = '';\n",
              "        dataTable['output_type'] = 'display_data';\n",
              "        await google.colab.output.renderOutput(dataTable, element);\n",
              "        const docLink = document.createElement('div');\n",
              "        docLink.innerHTML = docLinkHtml;\n",
              "        element.appendChild(docLink);\n",
              "      }\n",
              "    </script>\n",
              "  </div>\n",
              "\n",
              "\n",
              "<div id=\"df-674409ab-5aa9-4b2f-8e18-c1c70744ed2b\">\n",
              "  <button class=\"colab-df-quickchart\" onclick=\"quickchart('df-674409ab-5aa9-4b2f-8e18-c1c70744ed2b')\"\n",
              "            title=\"Suggest charts.\"\n",
              "            style=\"display:none;\">\n",
              "\n",
              "<svg xmlns=\"http://www.w3.org/2000/svg\" height=\"24px\"viewBox=\"0 0 24 24\"\n",
              "     width=\"24px\">\n",
              "    <g>\n",
              "        <path d=\"M19 3H5c-1.1 0-2 .9-2 2v14c0 1.1.9 2 2 2h14c1.1 0 2-.9 2-2V5c0-1.1-.9-2-2-2zM9 17H7v-7h2v7zm4 0h-2V7h2v10zm4 0h-2v-4h2v4z\"/>\n",
              "    </g>\n",
              "</svg>\n",
              "  </button>\n",
              "\n",
              "<style>\n",
              "  .colab-df-quickchart {\n",
              "      --bg-color: #E8F0FE;\n",
              "      --fill-color: #1967D2;\n",
              "      --hover-bg-color: #E2EBFA;\n",
              "      --hover-fill-color: #174EA6;\n",
              "      --disabled-fill-color: #AAA;\n",
              "      --disabled-bg-color: #DDD;\n",
              "  }\n",
              "\n",
              "  [theme=dark] .colab-df-quickchart {\n",
              "      --bg-color: #3B4455;\n",
              "      --fill-color: #D2E3FC;\n",
              "      --hover-bg-color: #434B5C;\n",
              "      --hover-fill-color: #FFFFFF;\n",
              "      --disabled-bg-color: #3B4455;\n",
              "      --disabled-fill-color: #666;\n",
              "  }\n",
              "\n",
              "  .colab-df-quickchart {\n",
              "    background-color: var(--bg-color);\n",
              "    border: none;\n",
              "    border-radius: 50%;\n",
              "    cursor: pointer;\n",
              "    display: none;\n",
              "    fill: var(--fill-color);\n",
              "    height: 32px;\n",
              "    padding: 0;\n",
              "    width: 32px;\n",
              "  }\n",
              "\n",
              "  .colab-df-quickchart:hover {\n",
              "    background-color: var(--hover-bg-color);\n",
              "    box-shadow: 0 1px 2px rgba(60, 64, 67, 0.3), 0 1px 3px 1px rgba(60, 64, 67, 0.15);\n",
              "    fill: var(--button-hover-fill-color);\n",
              "  }\n",
              "\n",
              "  .colab-df-quickchart-complete:disabled,\n",
              "  .colab-df-quickchart-complete:disabled:hover {\n",
              "    background-color: var(--disabled-bg-color);\n",
              "    fill: var(--disabled-fill-color);\n",
              "    box-shadow: none;\n",
              "  }\n",
              "\n",
              "  .colab-df-spinner {\n",
              "    border: 2px solid var(--fill-color);\n",
              "    border-color: transparent;\n",
              "    border-bottom-color: var(--fill-color);\n",
              "    animation:\n",
              "      spin 1s steps(1) infinite;\n",
              "  }\n",
              "\n",
              "  @keyframes spin {\n",
              "    0% {\n",
              "      border-color: transparent;\n",
              "      border-bottom-color: var(--fill-color);\n",
              "      border-left-color: var(--fill-color);\n",
              "    }\n",
              "    20% {\n",
              "      border-color: transparent;\n",
              "      border-left-color: var(--fill-color);\n",
              "      border-top-color: var(--fill-color);\n",
              "    }\n",
              "    30% {\n",
              "      border-color: transparent;\n",
              "      border-left-color: var(--fill-color);\n",
              "      border-top-color: var(--fill-color);\n",
              "      border-right-color: var(--fill-color);\n",
              "    }\n",
              "    40% {\n",
              "      border-color: transparent;\n",
              "      border-right-color: var(--fill-color);\n",
              "      border-top-color: var(--fill-color);\n",
              "    }\n",
              "    60% {\n",
              "      border-color: transparent;\n",
              "      border-right-color: var(--fill-color);\n",
              "    }\n",
              "    80% {\n",
              "      border-color: transparent;\n",
              "      border-right-color: var(--fill-color);\n",
              "      border-bottom-color: var(--fill-color);\n",
              "    }\n",
              "    90% {\n",
              "      border-color: transparent;\n",
              "      border-bottom-color: var(--fill-color);\n",
              "    }\n",
              "  }\n",
              "</style>\n",
              "\n",
              "  <script>\n",
              "    async function quickchart(key) {\n",
              "      const quickchartButtonEl =\n",
              "        document.querySelector('#' + key + ' button');\n",
              "      quickchartButtonEl.disabled = true;  // To prevent multiple clicks.\n",
              "      quickchartButtonEl.classList.add('colab-df-spinner');\n",
              "      try {\n",
              "        const charts = await google.colab.kernel.invokeFunction(\n",
              "            'suggestCharts', [key], {});\n",
              "      } catch (error) {\n",
              "        console.error('Error during call to suggestCharts:', error);\n",
              "      }\n",
              "      quickchartButtonEl.classList.remove('colab-df-spinner');\n",
              "      quickchartButtonEl.classList.add('colab-df-quickchart-complete');\n",
              "    }\n",
              "    (() => {\n",
              "      let quickchartButtonEl =\n",
              "        document.querySelector('#df-674409ab-5aa9-4b2f-8e18-c1c70744ed2b button');\n",
              "      quickchartButtonEl.style.display =\n",
              "        google.colab.kernel.accessAllowed ? 'block' : 'none';\n",
              "    })();\n",
              "  </script>\n",
              "</div>\n",
              "    </div>\n",
              "  </div>\n"
            ]
          },
          "metadata": {},
          "execution_count": 3
        }
      ]
    },
    {
      "cell_type": "code",
      "source": [
        "df.shape"
      ],
      "metadata": {
        "colab": {
          "base_uri": "https://localhost:8080/"
        },
        "id": "D0ZcHiVaoPV0",
        "outputId": "4f1fdef3-ec2d-4681-cfbb-2104ff5f086a"
      },
      "execution_count": 4,
      "outputs": [
        {
          "output_type": "execute_result",
          "data": {
            "text/plain": [
              "(70, 7)"
            ]
          },
          "metadata": {},
          "execution_count": 4
        }
      ]
    },
    {
      "cell_type": "code",
      "source": [
        "''' 6. Can you calculate a 3-day average of the daily gross profit from the sales_data_2.csv? '''\n",
        "\n",
        "# Calculate the daily gross profit considering quantities bought and quantities sold\n",
        "df['Daily Gross Profit'] = (df['Selling price'] - df['Buying price']) * (df['Quantity sold'] - df['Quantity bought'])\n",
        "\n",
        "# Group by date and calculate the sum of daily gross profit for each day\n",
        "daily_profit = df.groupby('Date')['Daily Gross Profit'].sum().reset_index()\n",
        "\n",
        "# Calculate the 3-day rolling average\n",
        "daily_profit['3-Day Average'] = daily_profit['Daily Gross Profit'].rolling(window=3).mean()\n",
        "\n",
        "# Print the result\n",
        "print(daily_profit)"
      ],
      "metadata": {
        "colab": {
          "base_uri": "https://localhost:8080/"
        },
        "id": "eCA7umkwo5NW",
        "outputId": "d23241c3-79fc-4adf-f174-2f1ebff1808f"
      },
      "execution_count": 5,
      "outputs": [
        {
          "output_type": "stream",
          "name": "stdout",
          "text": [
            "         Date  Daily Gross Profit  3-Day Average\n",
            "0  2023-08-21            -2309.98            NaN\n",
            "1  2023-08-22            -3731.70            NaN\n",
            "2  2023-08-23            -4206.03   -3415.903333\n",
            "3  2023-08-24            -2579.83   -3505.853333\n",
            "4  2023-08-25            -5111.76   -3965.873333\n",
            "5  2023-08-26            -3913.75   -3868.446667\n",
            "6  2023-08-27            -5295.19   -4773.566667\n"
          ]
        }
      ]
    },
    {
      "cell_type": "code",
      "source": [],
      "metadata": {
        "id": "aFLUU7b56tbC"
      },
      "execution_count": 5,
      "outputs": []
    },
    {
      "cell_type": "code",
      "source": [
        "'''7.Additionally, provide insights into how this 3-day trend changes over the time period covered in the dataset.'''\n",
        "# Plot the daily gross profit and 3-day average\n",
        "import matplotlib.pyplot as plt\n",
        "plt.figure(figsize=(10, 6))\n",
        "plt.plot(daily_profit['Date'], daily_profit['Daily Gross Profit'], label='Daily Gross Profit', marker='o')\n",
        "plt.plot(daily_profit['Date'], daily_profit['3-Day Average'], label='3-Day Average', linestyle='--', color='red')\n",
        "plt.xlabel('Date')\n",
        "plt.ylabel('Profit')\n",
        "plt.title('Daily Gross Profit and 3-Day Average')\n",
        "plt.legend()\n",
        "plt.grid(True)\n",
        "plt.show()"
      ],
      "metadata": {
        "colab": {
          "base_uri": "https://localhost:8080/",
          "height": 564
        },
        "id": "Zc7wppnPpVd5",
        "outputId": "18211fc5-f28d-466f-e5ba-39cfee4200f9"
      },
      "execution_count": 6,
      "outputs": [
        {
          "output_type": "display_data",
          "data": {
            "text/plain": [
              "<Figure size 1000x600 with 1 Axes>"
            ],
            "image/png": "[encoded data removed]"
          },
          "metadata": {}
        }
      ]
    },
    {
      "cell_type": "code",
      "source": [
        "'''8. Can you optimize the sales process to ensure gross margin is maximized?'''\n",
        "# Calculate the daily gross profit\n",
        "df['Gross Profit'] = (df['Selling price'] - df['Buying price']) * df['Quantity sold']\n",
        "\n",
        "# Group by date and calculate the sum of daily gross profit for each day\n",
        "daily_profit = df.groupby('Date')['Daily Gross Profit'].sum().reset_index()\n",
        "\n"
      ],
      "metadata": {
        "id": "QoM995H1FgT3"
      },
      "execution_count": 8,
      "outputs": []
    },
    {
      "cell_type": "code",
      "source": [
        "'''a. Would you fire any vendor?'''\n",
        "# Calculate the daily gross profit\n",
        "df['Gross Profit'] = (df['Selling price'] - df['Buying price']) * df['Quantity sold']\n",
        "vendor_profit_margin = df.groupby('Firm bought from')['Gross Profit'].mean()\n",
        "low_profit_vendors = vendor_profit_margin[vendor_profit_margin < vendor_profit_margin.median()]"
      ],
      "metadata": {
        "id": "2fOu44j6FxJw"
      },
      "execution_count": 10,
      "outputs": []
    },
    {
      "cell_type": "code",
      "source": [
        "vendor_profit_margin.median()"
      ],
      "metadata": {
        "colab": {
          "base_uri": "https://localhost:8080/"
        },
        "id": "Bmn2xG1BGMDl",
        "outputId": "58a8c2b7-21e6-45b6-9c1e-16e3b6f45853"
      },
      "execution_count": 11,
      "outputs": [
        {
          "output_type": "execute_result",
          "data": {
            "text/plain": [
              "380.17202380952375"
            ]
          },
          "metadata": {},
          "execution_count": 11
        }
      ]
    },
    {
      "cell_type": "code",
      "source": [
        "low_profit_vendors\n"
      ],
      "metadata": {
        "colab": {
          "base_uri": "https://localhost:8080/"
        },
        "id": "Dol_Ev2JGPkR",
        "outputId": "7585055c-6533-479b-d2f4-c74a15b2c0f5"
      },
      "execution_count": 13,
      "outputs": [
        {
          "output_type": "execute_result",
          "data": {
            "text/plain": [
              "Firm bought from\n",
              "Vendor1    311.118000\n",
              "Vendor2    117.907273\n",
              "Vendor5    230.877143\n",
              "Vendor7    354.360714\n",
              "Vendor8     84.580000\n",
              "Name: Gross Profit, dtype: float64"
            ]
          },
          "metadata": {},
          "execution_count": 13
        }
      ]
    },
    {
      "cell_type": "code",
      "source": [
        "'''b. Would you let go of any customer?  ?'''\n",
        "customer_profit_margin = df.groupby('Customer')['Gross Profit'].mean()\n",
        "low_profit_customers = customer_profit_margin[customer_profit_margin < customer_profit_margin.median()]"
      ],
      "metadata": {
        "id": "Ic5LTi3fGqsk"
      },
      "execution_count": 14,
      "outputs": []
    },
    {
      "cell_type": "code",
      "source": [
        "customer_profit_margin.median()"
      ],
      "metadata": {
        "colab": {
          "base_uri": "https://localhost:8080/"
        },
        "id": "41GjoCF2G3Yp",
        "outputId": "a2cfec1c-22a7-473d-9316-d3d99667c3b7"
      },
      "execution_count": 15,
      "outputs": [
        {
          "output_type": "execute_result",
          "data": {
            "text/plain": [
              "403.6914999999999"
            ]
          },
          "metadata": {},
          "execution_count": 15
        }
      ]
    },
    {
      "cell_type": "code",
      "source": [
        "low_profit_customers"
      ],
      "metadata": {
        "colab": {
          "base_uri": "https://localhost:8080/"
        },
        "id": "vlRJl6V8G-3Q",
        "outputId": "a6a6b521-0f11-480d-fdcd-c25a4281150b"
      },
      "execution_count": 16,
      "outputs": [
        {
          "output_type": "execute_result",
          "data": {
            "text/plain": [
              "Customer\n",
              "Customer3    150.721429\n",
              "Customer5    187.897143\n",
              "Customer6    275.822857\n",
              "Customer7    313.945714\n",
              "Customer9    385.816000\n",
              "Name: Gross Profit, dtype: float64"
            ]
          },
          "metadata": {},
          "execution_count": 16
        }
      ]
    },
    {
      "cell_type": "code",
      "source": [
        "''' 9.  Could you calculate the 25th, 50th (median), and 75th percentiles for both buying and selling prices? '''\n",
        "\n",
        "import numpy as np\n",
        "# Calculate the 25th, 50th (median), and 75th percentiles for buying and selling prices\n",
        "percentiles = [25, 50, 75]  # You can change these percentiles as needed\n",
        "\n",
        "buying_price_percentiles = np.percentile(df['Buying price'], percentiles)\n",
        "selling_price_percentiles = np.percentile(df['Selling price'], percentiles)\n",
        "\n",
        "print(\"Buying Price Percentiles:\")\n",
        "for p, percentile in zip(percentiles, buying_price_percentiles):\n",
        "    print(f\"{p}th Percentile: {percentile:.2f}\")\n",
        "\n",
        "print(\"\\nSelling Price Percentiles:\")\n",
        "for p, percentile in zip(percentiles, selling_price_percentiles):\n",
        "    print(f\"{p}th Percentile: {percentile:.2f}\")"
      ],
      "metadata": {
        "colab": {
          "base_uri": "https://localhost:8080/"
        },
        "id": "H3xmBrUsq5Az",
        "outputId": "10a9773a-2e1d-4026-f414-05a66ee341e9"
      },
      "execution_count": null,
      "outputs": [
        {
          "output_type": "stream",
          "name": "stdout",
          "text": [
            "Buying Price Percentiles:\n",
            "25th Percentile: 29.90\n",
            "50th Percentile: 60.76\n",
            "75th Percentile: 78.32\n",
            "\n",
            "Selling Price Percentiles:\n",
            "25th Percentile: 38.98\n",
            "50th Percentile: 78.99\n",
            "75th Percentile: 103.40\n"
          ]
        }
      ]
    },
    {
      "cell_type": "code",
      "source": [
        "''' 10. Additionally, analyze how often the Sapota’s prices fall below the 25th percentile or above the 75th percentile,\n",
        " potentially indicating they are buying at a high price or selling at a low price relative to their own transaction history. '''\n",
        "\n",
        "# Calculate the 25th and 75th percentiles for buying and selling prices for Sapota\n",
        "buying_price_25th_percentile = buying_price_percentiles[0]\n",
        "buying_price_75th_percentile = buying_price_percentiles[2]\n",
        "\n",
        "selling_price_25th_percentile = selling_price_percentiles[0]\n",
        "selling_price_75th_percentile = selling_price_percentiles[2]\n",
        "\n",
        "# Count how many times Sapota's prices fall below the 25th percentile or above the 75th percentile\n",
        "below_25th_buying = (df['Buying price'] < buying_price_25th_percentile).sum()\n",
        "above_75th_buying = (df['Buying price'] > buying_price_75th_percentile).sum()\n",
        "\n",
        "below_25th_selling = (df['Selling price'] < selling_price_25th_percentile).sum()\n",
        "above_75th_selling = (df['Selling price'] > selling_price_75th_percentile).sum()\n",
        "\n",
        "# Print the results\n",
        "print(f\"Sapota's Buying Price Below 25th Percentile: {below_25th_buying} times\")\n",
        "print(f\"Sapota's Buying Price Above 75th Percentile: {above_75th_buying} times\")\n",
        "print(f\"Sapota's Selling Price Below 25th Percentile: {below_25th_selling} times\")\n",
        "print(f\"Sapota's Selling Price Above 75th Percentile: {above_75th_selling} times\")"
      ],
      "metadata": {
        "colab": {
          "base_uri": "https://localhost:8080/"
        },
        "id": "qpKbVjqUuVL-",
        "outputId": "e2211ba1-d2a6-466b-c6a8-4bd35e0d6c84"
      },
      "execution_count": null,
      "outputs": [
        {
          "output_type": "stream",
          "name": "stdout",
          "text": [
            "Sapota's Buying Price Below 25th Percentile: 18 times\n",
            "Sapota's Buying Price Above 75th Percentile: 18 times\n",
            "Sapota's Selling Price Below 25th Percentile: 18 times\n",
            "Sapota's Selling Price Above 75th Percentile: 18 times\n"
          ]
        }
      ]
    },
    {
      "cell_type": "code",
      "source": [
        "''' 11. Bharath says that Vendor 4 has to be honored.  What impact does it have on your optimal gross margin? '''\n",
        "# Calculate the gross margin for each transaction\n",
        "df['Gross Margin'] = (df['Selling price'] - df['Buying price']) * df['Quantity sold']\n",
        "\n",
        "# Group by vendor and calculate the sum of gross margin for each vendor\n",
        "vendor_gross_margin = df.groupby('Firm bought from')['Gross Margin'].sum()\n",
        "\n",
        "# Find the vendor with the maximum gross margin\n",
        "max_gross_margin_vendor = vendor_gross_margin.idxmax()\n",
        "max_gross_margin_value = vendor_gross_margin.max()\n",
        "\n",
        "# Print the result\n",
        "print(f\"The vendor with the maximum gross margin is {max_gross_margin_vendor} with a total gross margin of ${max_gross_margin_value:.2f}\")"
      ],
      "metadata": {
        "colab": {
          "base_uri": "https://localhost:8080/"
        },
        "id": "Ca5-5e7OwVj7",
        "outputId": "a949d478-0e16-41f7-d12c-50c6bc87c5de"
      },
      "execution_count": 17,
      "outputs": [
        {
          "output_type": "stream",
          "name": "stdout",
          "text": [
            "The vendor with the maximum gross margin is Vendor4 with a total gross margin of $6903.31\n"
          ]
        }
      ]
    },
    {
      "cell_type": "code",
      "source": [
        "vendor_gross_margin"
      ],
      "metadata": {
        "colab": {
          "base_uri": "https://localhost:8080/"
        },
        "id": "WoGpBklwyRNV",
        "outputId": "a50835d5-f87a-4c0b-d924-f78c3eb17591"
      },
      "execution_count": 18,
      "outputs": [
        {
          "output_type": "execute_result",
          "data": {
            "text/plain": [
              "Firm bought from\n",
              "Vendor1     1555.59\n",
              "Vendor10    3040.62\n",
              "Vendor2     1296.98\n",
              "Vendor3     6370.67\n",
              "Vendor4     6903.31\n",
              "Vendor5     1616.14\n",
              "Vendor6     1217.95\n",
              "Vendor7     4961.05\n",
              "Vendor8      253.74\n",
              "Vendor9     4266.70\n",
              "Name: Gross Margin, dtype: float64"
            ]
          },
          "metadata": {},
          "execution_count": 18
        }
      ]
    },
    {
      "cell_type": "code",
      "source": [
        "'''12. Which vendor should we have a strategic tie up so that we source only from them (the goal here is to have the highest gross margin)\n",
        "    - What’s the theoretical max margin the firm could have from that branch?'''\n",
        "\n",
        "# Calculate the gross margin for each transaction\n",
        "df['Gross Margin Theoretical'] = (df['Selling price'] - df['Buying price']) * df['Quantity bought']\n",
        "\n",
        "# Group by vendor and calculate the sum of gross margin for each vendor\n",
        "vendor_gross_margin_theoretical = df.groupby('Firm bought from')['Gross Margin Theoretical'].sum()\n",
        "\n",
        "# Find the vendor with the maximum gross margin\n",
        "max_gross_margin_vendor_theoretical = vendor_gross_margin_theoretical.idxmax()\n",
        "max_gross_margin_value_theoretical = vendor_gross_margin_theoretical.max()\n",
        "\n",
        "# Print the result\n",
        "print(f\"The vendor with the maximum gross margin is {max_gross_margin_vendor_theoretical} with a total gross margin of ${max_gross_margin_value_theoretical:.2f}\")"
      ],
      "metadata": {
        "colab": {
          "base_uri": "https://localhost:8080/"
        },
        "id": "_TcqgTUnyV3Z",
        "outputId": "fc08105c-116d-40f3-d6b2-a8be74a21437"
      },
      "execution_count": null,
      "outputs": [
        {
          "output_type": "stream",
          "name": "stdout",
          "text": [
            "The vendor with the maximum gross margin is Vendor7 with a total gross margin of $11962.00\n"
          ]
        }
      ]
    },
    {
      "cell_type": "code",
      "source": [
        "'''13. Given this is the ground truth, what is the price elasticity of Sapota for that branch? (If you increase by Rs.1, how much sales will go up/down and if you decrease price by Rs. 1, how much sales will go up/down) '''\n",
        "\n",
        "# Filter data for vendor7\n",
        "vendor7_data = df[df['Firm bought from'] == 'Vendor7']\n",
        "\n",
        "# Calculate the initial daily gross profit for vendor7\n",
        "initial_daily_gross_profit = (vendor7_data['Selling price'] - vendor7_data['Buying price']) * vendor7_data['Quantity sold']\n",
        "\n",
        "# Calculate the new daily gross profit after increasing the price by Rs. 1\n",
        "new_selling_price_increase = vendor7_data['Selling price'] + 1\n",
        "new_daily_gross_profit_increase = (new_selling_price_increase - vendor7_data['Buying price']) * vendor7_data['Quantity sold']\n",
        "\n",
        "# Calculate the new daily gross profit after decreasing the price by Rs. 1\n",
        "new_selling_price_decrease = vendor7_data['Selling price'] - 1\n",
        "new_daily_gross_profit_decrease = (new_selling_price_decrease - vendor7_data['Buying price']) * vendor7_data['Quantity sold']\n",
        "\n",
        "# Calculate the difference in daily gross profit for each scenario\n",
        "sales_increase = new_daily_gross_profit_increase.sum() - initial_daily_gross_profit.sum()\n",
        "sales_decrease = new_daily_gross_profit_decrease.sum() - initial_daily_gross_profit.sum()\n",
        "\n",
        "print(f\"If you increase the price by Rs. 1 for vendor7, sales will go up by Rs. {sales_increase:.2f}\")\n",
        "print(f\"If you decrease the price by Rs. 1 for vendor7, sales will go down by Rs. {sales_decrease:.2f}\")"
      ],
      "metadata": {
        "colab": {
          "base_uri": "https://localhost:8080/"
        },
        "id": "BpYX-q8V3Hvc",
        "outputId": "d8eb0b30-a766-4c46-f3a7-cc86adc0abac"
      },
      "execution_count": null,
      "outputs": [
        {
          "output_type": "stream",
          "name": "stdout",
          "text": [
            "If you increase the price by Rs. 1 for vendor7, sales will go up by Rs. 270.00\n",
            "If you decrease the price by Rs. 1 for vendor7, sales will go down by Rs. -270.00\n"
          ]
        }
      ]
    }
  ]
}